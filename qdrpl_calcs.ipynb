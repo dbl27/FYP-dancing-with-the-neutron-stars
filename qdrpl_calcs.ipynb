{
 "cells": [
  {
   "cell_type": "code",
   "execution_count": 2,
   "metadata": {},
   "outputs": [],
   "source": [
    "import numpy as np\n",
    "import pandas as pd"
   ]
  },
  {
   "cell_type": "code",
   "execution_count": 90,
   "metadata": {},
   "outputs": [
    {
     "data": {
      "text/plain": [
       "array([[26.,  0.],\n",
       "       [ 0., 26.]])"
      ]
     },
     "execution_count": 90,
     "metadata": {},
     "output_type": "execute_result"
    }
   ],
   "source": [
    "m1 = 1\n",
    "m2 = 2\n",
    "positions = [[5, 6], [1, 2]] # 2 masses in this case\n",
    "masses = [m1, m2]\n",
    "\n",
    "def quadrupole_moment(masses, positions):\n",
    "    \"\"\" \n",
    "    Calculate the 2D quadrupole moment for a pair of masses (masses = [m1, m2]). \n",
    "    \n",
    "    Insert data as list of masses and positions (positions = [[x1, y1], [x2, y2]]) \n",
    "    \"\"\"\n",
    "    Q = np.zeros((2,2)) # 2x2 matrix for quadrupole moment tensor in 2D\n",
    "    data = zip(masses, positions) # data = [(m1, [x1, y1]), (m2, [x2, y2])]\n",
    "    for mass, pos in data:\n",
    "        pos = np.array(pos)\n",
    "        R = np.dot(pos, pos) # R = [x^2 + y^2 for given m]\n",
    "    for i in range(2):\n",
    "        for j in range(2):\n",
    "            Q[i, j] += mass * (3 * pos[i] * pos[j] - (R if i == j else 0))\n",
    "    return Q\n",
    "Q"
   ]
  },
  {
   "cell_type": "code",
   "execution_count": 102,
   "metadata": {},
   "outputs": [
    {
     "name": "stdout",
     "output_type": "stream",
     "text": [
      "[[ 10. 102.]\n",
      " [102.  61.]]\n"
     ]
    }
   ],
   "source": [
    "m1 = 1\n",
    "m2 = 2\n",
    "positions = [[5, 6], [1, 2]] \n",
    "masses = [m1, m2]\n",
    "def quadrupole_moment(masses, positions):\n",
    "    \"\"\" \n",
    "    Calculate the 2D quadrupole moment for a pair of masses (masses = [m1, m2]). \n",
    "    Insert data as list of masses and positions (positions = [[x1, y1], [x2, y2]]) \n",
    "    \"\"\"\n",
    "    Q = np.zeros((2, 2))  # 2x2 matrix for quadrupole moment tensor in 2D\n",
    "    data = zip(masses, positions)  # data = [(m1, [x1, y1]), (m2, [x2, y2])]\n",
    "    \n",
    "    for mass, pos in data:  # Iterate over each mass and position\n",
    "        pos = np.array(pos)\n",
    "        R = np.dot(pos, pos)  # R = x^2 + y^2 for current mass and position\n",
    "        \n",
    "        # Now iterate over i and j to update the Q tensor for the current mass\n",
    "        for i in range(2):\n",
    "            for j in range(2):\n",
    "                Q[i, j] += mass * (3 * pos[i] * pos[j] - (R if i == j else 0))\n",
    "    \n",
    "    return Q\n",
    "print(quadrupole_moment(masses, positions))"
   ]
  },
  {
   "cell_type": "code",
   "execution_count": 100,
   "metadata": {},
   "outputs": [
    {
     "data": {
      "text/plain": [
       "array([[ 10., 102.],\n",
       "       [102.,  61.]])"
      ]
     },
     "execution_count": 100,
     "metadata": {},
     "output_type": "execute_result"
    }
   ],
   "source": [
    "m1 = 1\n",
    "m2 = 2\n",
    "positions = [[5, 6], [1, 2]] \n",
    "masses = [m1, m2]\n",
    "quadrupole_moment(masses, positions)"
   ]
  },
  {
   "cell_type": "code",
   "execution_count": 68,
   "metadata": {},
   "outputs": [
    {
     "name": "stdout",
     "output_type": "stream",
     "text": [
      "Help on function quadrupole_moment in module __main__:\n",
      "\n",
      "quadrupole_moment(masses, positions)\n",
      "    Calculate the 2D quadrupole moment for a pair of masses.\n",
      "\n"
     ]
    }
   ],
   "source": [
    "help(quadrupole_moment)"
   ]
  },
  {
   "cell_type": "code",
   "execution_count": 78,
   "metadata": {},
   "outputs": [
    {
     "name": "stdout",
     "output_type": "stream",
     "text": [
      "Quadrupole Moment Tensor at time t1:\n",
      "[[-4. 12.]\n",
      " [12. 14.]]\n",
      "\n",
      "Quadrupole Moment Tensor at time t2:\n",
      "[[-2. 36.]\n",
      " [36. 28.]]\n",
      "\n",
      "Quadrupole Moment Tensor at time t3:\n",
      "[[ 4. 72.]\n",
      " [72. 46.]]\n",
      "\n"
     ]
    }
   ],
   "source": [
    "def qdrpl_trajectory(masses, trajectories):\n",
    "    \"\"\"\n",
    "    Find the quadrupole moment at each point in the 2D trajectory of two masses.\n",
    "    \n",
    "    Insert data as list of masses [m1, m2] and trajectories, with list of trajectories being a list of positions for each mass [[x1, y1], [x2, y2], ...]\n",
    "    \n",
    "    Outputs a list of quadrupole moment tensors (2x2) at each position / time step\n",
    "    \"\"\"\n",
    "    # Time step N\n",
    "    time_n = len(trajectories[0])\n",
    "    \n",
    "    quadrupole_moments = []\n",
    "    \n",
    "    for t in range(time_n):\n",
    "        # Get positions of all masses at time step t\n",
    "        pos_t = [trajectory[t] for trajectory in trajectories]\n",
    "        \n",
    "        # Calculate the quadrupole moment for this time step\n",
    "        Q_t = quadrupole_moment(masses, pos_t)\n",
    "        \n",
    "        # Append the quadrupole moment tensor to the list\n",
    "        quadrupole_moments.append(Q_t)\n",
    "    \n",
    "    return quadrupole_moments\n",
    "\n",
    "# Example data for 2 masses and their trajectories\n",
    "m1 = 1\n",
    "m2 = 2\n",
    "masses = [m1, m2]\n",
    "\n",
    "# Trajectories: each sublist is the trajectory of a mass over 3 time steps\n",
    "trajectories = [\n",
    "    [[5, 6], [6, 7], [7, 8]],  # Trajectory of mass 1 (at times t1, t2, t3)\n",
    "    [[1, 2], [2, 3], [3, 4]]   # Trajectory of mass 2 (at times t1, t2, t3)\n",
    "]\n",
    "\n",
    "# Calculate the quadrupole moment at each point of the trajectory\n",
    "quadrupole_moments = qdrpl_trajectory(masses, trajectories)\n",
    "\n",
    "# for exporting data use list(quadrupole_moments), for dispaying use enumerate(quadrupole moments)\n",
    "for t, Q_t in enumerate(quadrupole_moments):\n",
    "    print(f\"Quadrupole Moment Tensor at time t{t+1}:\")\n",
    "    print(Q_t)\n",
    "    print()"
   ]
  },
  {
   "cell_type": "code",
   "execution_count": 76,
   "metadata": {},
   "outputs": [
    {
     "data": {
      "text/plain": [
       "[(0,\n",
       "  array([[-4., 12.],\n",
       "         [12., 14.]])),\n",
       " (1,\n",
       "  array([[-2., 36.],\n",
       "         [36., 28.]])),\n",
       " (2,\n",
       "  array([[ 4., 72.],\n",
       "         [72., 46.]]))]"
      ]
     },
     "execution_count": 76,
     "metadata": {},
     "output_type": "execute_result"
    }
   ],
   "source": [
    "list(enumerate(quadrupole_moments))"
   ]
  },
  {
   "cell_type": "code",
   "execution_count": 79,
   "metadata": {},
   "outputs": [
    {
     "data": {
      "text/plain": [
       "[array([[-4., 12.],\n",
       "        [12., 14.]]),\n",
       " array([[-2., 36.],\n",
       "        [36., 28.]]),\n",
       " array([[ 4., 72.],\n",
       "        [72., 46.]])]"
      ]
     },
     "execution_count": 79,
     "metadata": {},
     "output_type": "execute_result"
    }
   ],
   "source": [
    "list(quadrupole_moments)"
   ]
  },
  {
   "cell_type": "code",
   "execution_count": null,
   "metadata": {},
   "outputs": [],
   "source": []
  }
 ],
 "metadata": {
  "kernelspec": {
   "display_name": "base",
   "language": "python",
   "name": "python3"
  },
  "language_info": {
   "codemirror_mode": {
    "name": "ipython",
    "version": 3
   },
   "file_extension": ".py",
   "mimetype": "text/x-python",
   "name": "python",
   "nbconvert_exporter": "python",
   "pygments_lexer": "ipython3",
   "version": "3.9.7"
  }
 },
 "nbformat": 4,
 "nbformat_minor": 2
}
